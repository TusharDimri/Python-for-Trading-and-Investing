{
 "cells": [
  {
   "cell_type": "code",
   "execution_count": 1,
   "metadata": {},
   "outputs": [],
   "source": [
    "import numpy as np\n",
    "import pandas as pd"
   ]
  },
  {
   "cell_type": "code",
   "execution_count": 2,
   "metadata": {},
   "outputs": [],
   "source": [
    "ser = pd.Series(np.random.random(5), name = \"Column 01\")"
   ]
  },
  {
   "cell_type": "code",
   "execution_count": 3,
   "metadata": {},
   "outputs": [
    {
     "data": {
      "text/plain": [
       "0    0.509351\n",
       "1    0.704918\n",
       "2    0.665292\n",
       "3    0.914238\n",
       "4    0.813065\n",
       "Name: Column 01, dtype: float64"
      ]
     },
     "execution_count": 3,
     "metadata": {},
     "output_type": "execute_result"
    }
   ],
   "source": [
    "ser"
   ]
  },
  {
   "cell_type": "code",
   "execution_count": 4,
   "metadata": {},
   "outputs": [
    {
     "data": {
      "text/plain": [
       "0.6652919148494665"
      ]
     },
     "execution_count": 4,
     "metadata": {},
     "output_type": "execute_result"
    }
   ],
   "source": [
    "ser[2]"
   ]
  },
  {
   "cell_type": "code",
   "execution_count": 5,
   "metadata": {},
   "outputs": [],
   "source": [
    "from pandas_datareader import data as wb"
   ]
  },
  {
   "cell_type": "code",
   "execution_count": 6,
   "metadata": {},
   "outputs": [],
   "source": [
    "PG = wb.DataReader('PG', data_source='iex', start='2015-1-1', api_key='pk_05c71fc9a44040acb92051bc1c1c80d9')"
   ]
  },
  {
   "cell_type": "code",
   "execution_count": 7,
   "metadata": {},
   "outputs": [
    {
     "data": {
      "text/html": [
       "<div>\n",
       "<style scoped>\n",
       "    .dataframe tbody tr th:only-of-type {\n",
       "        vertical-align: middle;\n",
       "    }\n",
       "\n",
       "    .dataframe tbody tr th {\n",
       "        vertical-align: top;\n",
       "    }\n",
       "\n",
       "    .dataframe thead th {\n",
       "        text-align: right;\n",
       "    }\n",
       "</style>\n",
       "<table border=\"1\" class=\"dataframe\">\n",
       "  <thead>\n",
       "    <tr style=\"text-align: right;\">\n",
       "      <th></th>\n",
       "      <th>open</th>\n",
       "      <th>high</th>\n",
       "      <th>low</th>\n",
       "      <th>close</th>\n",
       "      <th>volume</th>\n",
       "    </tr>\n",
       "    <tr>\n",
       "      <th>date</th>\n",
       "      <th></th>\n",
       "      <th></th>\n",
       "      <th></th>\n",
       "      <th></th>\n",
       "      <th></th>\n",
       "    </tr>\n",
       "  </thead>\n",
       "  <tbody>\n",
       "    <tr>\n",
       "      <th>2015-01-02</th>\n",
       "      <td>90.84</td>\n",
       "      <td>91.000</td>\n",
       "      <td>89.9200</td>\n",
       "      <td>90.44</td>\n",
       "      <td>7255494</td>\n",
       "    </tr>\n",
       "    <tr>\n",
       "      <th>2015-01-05</th>\n",
       "      <td>90.23</td>\n",
       "      <td>91.000</td>\n",
       "      <td>89.8500</td>\n",
       "      <td>90.01</td>\n",
       "      <td>8626143</td>\n",
       "    </tr>\n",
       "    <tr>\n",
       "      <th>2015-01-06</th>\n",
       "      <td>90.31</td>\n",
       "      <td>90.560</td>\n",
       "      <td>89.2600</td>\n",
       "      <td>89.60</td>\n",
       "      <td>7791195</td>\n",
       "    </tr>\n",
       "    <tr>\n",
       "      <th>2015-01-07</th>\n",
       "      <td>89.94</td>\n",
       "      <td>90.370</td>\n",
       "      <td>89.5626</td>\n",
       "      <td>90.07</td>\n",
       "      <td>5986899</td>\n",
       "    </tr>\n",
       "    <tr>\n",
       "      <th>2015-01-08</th>\n",
       "      <td>90.48</td>\n",
       "      <td>91.225</td>\n",
       "      <td>90.1300</td>\n",
       "      <td>91.10</td>\n",
       "      <td>6831617</td>\n",
       "    </tr>\n",
       "    <tr>\n",
       "      <th>...</th>\n",
       "      <td>...</td>\n",
       "      <td>...</td>\n",
       "      <td>...</td>\n",
       "      <td>...</td>\n",
       "      <td>...</td>\n",
       "    </tr>\n",
       "    <tr>\n",
       "      <th>2022-07-18</th>\n",
       "      <td>144.94</td>\n",
       "      <td>145.090</td>\n",
       "      <td>143.1700</td>\n",
       "      <td>143.31</td>\n",
       "      <td>6047504</td>\n",
       "    </tr>\n",
       "    <tr>\n",
       "      <th>2022-07-19</th>\n",
       "      <td>144.57</td>\n",
       "      <td>145.010</td>\n",
       "      <td>143.6400</td>\n",
       "      <td>144.04</td>\n",
       "      <td>5943647</td>\n",
       "    </tr>\n",
       "    <tr>\n",
       "      <th>2022-07-20</th>\n",
       "      <td>144.00</td>\n",
       "      <td>144.220</td>\n",
       "      <td>140.6400</td>\n",
       "      <td>141.55</td>\n",
       "      <td>8635300</td>\n",
       "    </tr>\n",
       "    <tr>\n",
       "      <th>2022-07-21</th>\n",
       "      <td>140.60</td>\n",
       "      <td>141.360</td>\n",
       "      <td>138.9500</td>\n",
       "      <td>140.77</td>\n",
       "      <td>8310202</td>\n",
       "    </tr>\n",
       "    <tr>\n",
       "      <th>2022-07-22</th>\n",
       "      <td>140.76</td>\n",
       "      <td>143.170</td>\n",
       "      <td>140.6700</td>\n",
       "      <td>143.02</td>\n",
       "      <td>5292834</td>\n",
       "    </tr>\n",
       "  </tbody>\n",
       "</table>\n",
       "<p>1902 rows × 5 columns</p>\n",
       "</div>"
      ],
      "text/plain": [
       "              open     high       low   close   volume\n",
       "date                                                  \n",
       "2015-01-02   90.84   91.000   89.9200   90.44  7255494\n",
       "2015-01-05   90.23   91.000   89.8500   90.01  8626143\n",
       "2015-01-06   90.31   90.560   89.2600   89.60  7791195\n",
       "2015-01-07   89.94   90.370   89.5626   90.07  5986899\n",
       "2015-01-08   90.48   91.225   90.1300   91.10  6831617\n",
       "...            ...      ...       ...     ...      ...\n",
       "2022-07-18  144.94  145.090  143.1700  143.31  6047504\n",
       "2022-07-19  144.57  145.010  143.6400  144.04  5943647\n",
       "2022-07-20  144.00  144.220  140.6400  141.55  8635300\n",
       "2022-07-21  140.60  141.360  138.9500  140.77  8310202\n",
       "2022-07-22  140.76  143.170  140.6700  143.02  5292834\n",
       "\n",
       "[1902 rows x 5 columns]"
      ]
     },
     "execution_count": 7,
     "metadata": {},
     "output_type": "execute_result"
    }
   ],
   "source": [
    "PG"
   ]
  }
 ],
 "metadata": {
  "kernelspec": {
   "display_name": "Python 3",
   "language": "python",
   "name": "python3"
  },
  "language_info": {
   "codemirror_mode": {
    "name": "ipython",
    "version": 3
   },
   "file_extension": ".py",
   "mimetype": "text/x-python",
   "name": "python",
   "nbconvert_exporter": "python",
   "pygments_lexer": "ipython3",
   "version": "3.8.3"
  }
 },
 "nbformat": 4,
 "nbformat_minor": 2
}
