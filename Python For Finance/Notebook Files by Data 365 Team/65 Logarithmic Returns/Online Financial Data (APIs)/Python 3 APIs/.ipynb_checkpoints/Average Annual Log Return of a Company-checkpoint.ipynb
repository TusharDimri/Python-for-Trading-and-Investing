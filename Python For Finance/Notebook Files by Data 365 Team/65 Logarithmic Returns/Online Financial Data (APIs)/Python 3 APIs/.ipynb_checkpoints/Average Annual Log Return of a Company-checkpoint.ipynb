{
 "cells": [
  {
   "cell_type": "code",
   "execution_count": 1,
   "metadata": {},
   "outputs": [],
   "source": [
    "import numpy as np\n",
    "import matplotlib.pyplot as plt\n",
    "from pandas_datareader import data as wb"
   ]
  },
  {
   "cell_type": "code",
   "execution_count": 2,
   "metadata": {},
   "outputs": [
    {
     "data": {
      "text/html": [
       "<div>\n",
       "<style scoped>\n",
       "    .dataframe tbody tr th:only-of-type {\n",
       "        vertical-align: middle;\n",
       "    }\n",
       "\n",
       "    .dataframe tbody tr th {\n",
       "        vertical-align: top;\n",
       "    }\n",
       "\n",
       "    .dataframe thead th {\n",
       "        text-align: right;\n",
       "    }\n",
       "</style>\n",
       "<table border=\"1\" class=\"dataframe\">\n",
       "  <thead>\n",
       "    <tr style=\"text-align: right;\">\n",
       "      <th></th>\n",
       "      <th>High</th>\n",
       "      <th>Low</th>\n",
       "      <th>Open</th>\n",
       "      <th>Close</th>\n",
       "      <th>Volume</th>\n",
       "      <th>Adj Close</th>\n",
       "    </tr>\n",
       "    <tr>\n",
       "      <th>Date</th>\n",
       "      <th></th>\n",
       "      <th></th>\n",
       "      <th></th>\n",
       "      <th></th>\n",
       "      <th></th>\n",
       "      <th></th>\n",
       "    </tr>\n",
       "  </thead>\n",
       "  <tbody>\n",
       "    <tr>\n",
       "      <th>2002-01-01</th>\n",
       "      <td>15.422222</td>\n",
       "      <td>15.022222</td>\n",
       "      <td>15.066666</td>\n",
       "      <td>15.201111</td>\n",
       "      <td>7961310.0</td>\n",
       "      <td>9.625690</td>\n",
       "    </tr>\n",
       "    <tr>\n",
       "      <th>2002-01-02</th>\n",
       "      <td>15.777777</td>\n",
       "      <td>15.308888</td>\n",
       "      <td>15.333333</td>\n",
       "      <td>15.720000</td>\n",
       "      <td>21220650.0</td>\n",
       "      <td>9.954263</td>\n",
       "    </tr>\n",
       "    <tr>\n",
       "      <th>2002-01-03</th>\n",
       "      <td>15.888888</td>\n",
       "      <td>15.604444</td>\n",
       "      <td>15.777777</td>\n",
       "      <td>15.727777</td>\n",
       "      <td>9733275.0</td>\n",
       "      <td>9.959188</td>\n",
       "    </tr>\n",
       "    <tr>\n",
       "      <th>2002-01-04</th>\n",
       "      <td>15.972222</td>\n",
       "      <td>15.600000</td>\n",
       "      <td>15.777777</td>\n",
       "      <td>15.708888</td>\n",
       "      <td>11242305.0</td>\n",
       "      <td>9.947227</td>\n",
       "    </tr>\n",
       "    <tr>\n",
       "      <th>2002-01-07</th>\n",
       "      <td>15.977777</td>\n",
       "      <td>15.691111</td>\n",
       "      <td>15.822222</td>\n",
       "      <td>15.814444</td>\n",
       "      <td>10055565.0</td>\n",
       "      <td>10.014067</td>\n",
       "    </tr>\n",
       "    <tr>\n",
       "      <th>...</th>\n",
       "      <td>...</td>\n",
       "      <td>...</td>\n",
       "      <td>...</td>\n",
       "      <td>...</td>\n",
       "      <td>...</td>\n",
       "      <td>...</td>\n",
       "    </tr>\n",
       "    <tr>\n",
       "      <th>2022-07-20</th>\n",
       "      <td>299.500000</td>\n",
       "      <td>293.600006</td>\n",
       "      <td>294.899994</td>\n",
       "      <td>298.200012</td>\n",
       "      <td>15789281.0</td>\n",
       "      <td>298.200012</td>\n",
       "    </tr>\n",
       "    <tr>\n",
       "      <th>2022-07-21</th>\n",
       "      <td>302.200012</td>\n",
       "      <td>298.000000</td>\n",
       "      <td>299.000000</td>\n",
       "      <td>299.549988</td>\n",
       "      <td>16042840.0</td>\n",
       "      <td>299.549988</td>\n",
       "    </tr>\n",
       "    <tr>\n",
       "      <th>2022-07-22</th>\n",
       "      <td>302.500000</td>\n",
       "      <td>298.100006</td>\n",
       "      <td>300.000000</td>\n",
       "      <td>300.549988</td>\n",
       "      <td>9967545.0</td>\n",
       "      <td>300.549988</td>\n",
       "    </tr>\n",
       "    <tr>\n",
       "      <th>2022-07-25</th>\n",
       "      <td>302.950012</td>\n",
       "      <td>298.799988</td>\n",
       "      <td>299.000000</td>\n",
       "      <td>301.100006</td>\n",
       "      <td>10640727.0</td>\n",
       "      <td>301.100006</td>\n",
       "    </tr>\n",
       "    <tr>\n",
       "      <th>2022-07-26</th>\n",
       "      <td>302.799988</td>\n",
       "      <td>300.450012</td>\n",
       "      <td>301.000000</td>\n",
       "      <td>302.000000</td>\n",
       "      <td>4118267.0</td>\n",
       "      <td>302.000000</td>\n",
       "    </tr>\n",
       "  </tbody>\n",
       "</table>\n",
       "<p>5116 rows × 6 columns</p>\n",
       "</div>"
      ],
      "text/plain": [
       "                  High         Low        Open       Close      Volume  \\\n",
       "Date                                                                     \n",
       "2002-01-01   15.422222   15.022222   15.066666   15.201111   7961310.0   \n",
       "2002-01-02   15.777777   15.308888   15.333333   15.720000  21220650.0   \n",
       "2002-01-03   15.888888   15.604444   15.777777   15.727777   9733275.0   \n",
       "2002-01-04   15.972222   15.600000   15.777777   15.708888  11242305.0   \n",
       "2002-01-07   15.977777   15.691111   15.822222   15.814444  10055565.0   \n",
       "...                ...         ...         ...         ...         ...   \n",
       "2022-07-20  299.500000  293.600006  294.899994  298.200012  15789281.0   \n",
       "2022-07-21  302.200012  298.000000  299.000000  299.549988  16042840.0   \n",
       "2022-07-22  302.500000  298.100006  300.000000  300.549988   9967545.0   \n",
       "2022-07-25  302.950012  298.799988  299.000000  301.100006  10640727.0   \n",
       "2022-07-26  302.799988  300.450012  301.000000  302.000000   4118267.0   \n",
       "\n",
       "             Adj Close  \n",
       "Date                    \n",
       "2002-01-01    9.625690  \n",
       "2002-01-02    9.954263  \n",
       "2002-01-03    9.959188  \n",
       "2002-01-04    9.947227  \n",
       "2002-01-07   10.014067  \n",
       "...                ...  \n",
       "2022-07-20  298.200012  \n",
       "2022-07-21  299.549988  \n",
       "2022-07-22  300.549988  \n",
       "2022-07-25  301.100006  \n",
       "2022-07-26  302.000000  \n",
       "\n",
       "[5116 rows x 6 columns]"
      ]
     },
     "execution_count": 2,
     "metadata": {},
     "output_type": "execute_result"
    }
   ],
   "source": [
    "company = wb.DataReader('ITC.NS', data_source='yahoo', start='2002-1-1')\n",
    "company"
   ]
  },
  {
   "cell_type": "code",
   "execution_count": 3,
   "metadata": {},
   "outputs": [
    {
     "data": {
      "text/plain": [
       "Date\n",
       "2002-01-01         NaN\n",
       "2002-01-02    0.033565\n",
       "2002-01-03    0.000495\n",
       "2002-01-04   -0.001202\n",
       "2002-01-07    0.006697\n",
       "                ...   \n",
       "2022-07-20    0.012146\n",
       "2022-07-21    0.004517\n",
       "2022-07-22    0.003333\n",
       "2022-07-25    0.001828\n",
       "2022-07-26    0.002985\n",
       "Name: Log Return, Length: 5116, dtype: float64"
      ]
     },
     "execution_count": 3,
     "metadata": {},
     "output_type": "execute_result"
    }
   ],
   "source": [
    "company['Log Return'] = np.log(company['Adj Close']/company['Adj Close'].shift(1))\n",
    "company['Log Return']"
   ]
  },
  {
   "cell_type": "code",
   "execution_count": 4,
   "metadata": {},
   "outputs": [
    {
     "data": {
      "text/plain": [
       "0.0006737031285874241"
      ]
     },
     "execution_count": 4,
     "metadata": {},
     "output_type": "execute_result"
    }
   ],
   "source": [
    "avg_daily_log_return = company['Log Return'].mean()\n",
    "avg_daily_log_return"
   ]
  },
  {
   "cell_type": "code",
   "execution_count": 5,
   "metadata": {},
   "outputs": [
    {
     "data": {
      "text/plain": [
       "0.16842578214685602"
      ]
     },
     "execution_count": 5,
     "metadata": {},
     "output_type": "execute_result"
    }
   ],
   "source": [
    "avg_annual_log_return = avg_daily_log_return*250\n",
    "avg_annual_log_return"
   ]
  },
  {
   "cell_type": "code",
   "execution_count": 6,
   "metadata": {},
   "outputs": [
    {
     "name": "stdout",
     "output_type": "stream",
     "text": [
      "Average Annual Log Returns: 16.842578214685602%\n"
     ]
    }
   ],
   "source": [
    "print(f\"Average Annual Log Returns: {avg_annual_log_return*100}%\")"
   ]
  }
 ],
 "metadata": {
  "kernelspec": {
   "display_name": "Python 3",
   "language": "python",
   "name": "python3"
  },
  "language_info": {
   "codemirror_mode": {
    "name": "ipython",
    "version": 3
   },
   "file_extension": ".py",
   "mimetype": "text/x-python",
   "name": "python",
   "nbconvert_exporter": "python",
   "pygments_lexer": "ipython3",
   "version": "3.8.3"
  }
 },
 "nbformat": 4,
 "nbformat_minor": 4
}
