{
 "cells": [
  {
   "cell_type": "code",
   "execution_count": 1,
   "metadata": {},
   "outputs": [],
   "source": [
    "import numpy as np \n",
    "from pandas_datareader import data as wb\n",
    "import matplotlib.pyplot as plt"
   ]
  },
  {
   "cell_type": "code",
   "execution_count": 2,
   "metadata": {},
   "outputs": [
    {
     "data": {
      "text/html": [
       "<div>\n",
       "<style scoped>\n",
       "    .dataframe tbody tr th:only-of-type {\n",
       "        vertical-align: middle;\n",
       "    }\n",
       "\n",
       "    .dataframe tbody tr th {\n",
       "        vertical-align: top;\n",
       "    }\n",
       "\n",
       "    .dataframe thead th {\n",
       "        text-align: right;\n",
       "    }\n",
       "</style>\n",
       "<table border=\"1\" class=\"dataframe\">\n",
       "  <thead>\n",
       "    <tr style=\"text-align: right;\">\n",
       "      <th></th>\n",
       "      <th>High</th>\n",
       "      <th>Low</th>\n",
       "      <th>Open</th>\n",
       "      <th>Close</th>\n",
       "      <th>Volume</th>\n",
       "      <th>Adj Close</th>\n",
       "    </tr>\n",
       "    <tr>\n",
       "      <th>Date</th>\n",
       "      <th></th>\n",
       "      <th></th>\n",
       "      <th></th>\n",
       "      <th></th>\n",
       "      <th></th>\n",
       "      <th></th>\n",
       "    </tr>\n",
       "  </thead>\n",
       "  <tbody>\n",
       "    <tr>\n",
       "      <th>2002-01-01</th>\n",
       "      <td>47.794907</td>\n",
       "      <td>46.820129</td>\n",
       "      <td>47.176003</td>\n",
       "      <td>47.191475</td>\n",
       "      <td>4451335.0</td>\n",
       "      <td>37.571808</td>\n",
       "    </tr>\n",
       "    <tr>\n",
       "      <th>2002-01-02</th>\n",
       "      <td>47.346199</td>\n",
       "      <td>46.572571</td>\n",
       "      <td>47.044483</td>\n",
       "      <td>46.974857</td>\n",
       "      <td>4420985.0</td>\n",
       "      <td>37.399349</td>\n",
       "    </tr>\n",
       "    <tr>\n",
       "      <th>2002-01-03</th>\n",
       "      <td>47.493191</td>\n",
       "      <td>45.682896</td>\n",
       "      <td>47.191475</td>\n",
       "      <td>45.868565</td>\n",
       "      <td>10200292.0</td>\n",
       "      <td>36.518551</td>\n",
       "    </tr>\n",
       "    <tr>\n",
       "      <th>2002-01-04</th>\n",
       "      <td>50.402042</td>\n",
       "      <td>46.108391</td>\n",
       "      <td>46.572571</td>\n",
       "      <td>49.674828</td>\n",
       "      <td>28939679.0</td>\n",
       "      <td>39.548935</td>\n",
       "    </tr>\n",
       "    <tr>\n",
       "      <th>2002-01-07</th>\n",
       "      <td>51.144726</td>\n",
       "      <td>49.094604</td>\n",
       "      <td>49.357639</td>\n",
       "      <td>49.512367</td>\n",
       "      <td>19626004.0</td>\n",
       "      <td>39.419590</td>\n",
       "    </tr>\n",
       "    <tr>\n",
       "      <th>...</th>\n",
       "      <td>...</td>\n",
       "      <td>...</td>\n",
       "      <td>...</td>\n",
       "      <td>...</td>\n",
       "      <td>...</td>\n",
       "      <td>...</td>\n",
       "    </tr>\n",
       "    <tr>\n",
       "      <th>2022-07-20</th>\n",
       "      <td>2542.500000</td>\n",
       "      <td>2486.250000</td>\n",
       "      <td>2540.000000</td>\n",
       "      <td>2503.000000</td>\n",
       "      <td>11041036.0</td>\n",
       "      <td>2503.000000</td>\n",
       "    </tr>\n",
       "    <tr>\n",
       "      <th>2022-07-21</th>\n",
       "      <td>2500.000000</td>\n",
       "      <td>2467.300049</td>\n",
       "      <td>2494.000000</td>\n",
       "      <td>2486.300049</td>\n",
       "      <td>7625468.0</td>\n",
       "      <td>2486.300049</td>\n",
       "    </tr>\n",
       "    <tr>\n",
       "      <th>2022-07-22</th>\n",
       "      <td>2516.300049</td>\n",
       "      <td>2495.000000</td>\n",
       "      <td>2500.000000</td>\n",
       "      <td>2503.100098</td>\n",
       "      <td>5062651.0</td>\n",
       "      <td>2503.100098</td>\n",
       "    </tr>\n",
       "    <tr>\n",
       "      <th>2022-07-25</th>\n",
       "      <td>2467.449951</td>\n",
       "      <td>2403.000000</td>\n",
       "      <td>2467.449951</td>\n",
       "      <td>2420.399902</td>\n",
       "      <td>10665470.0</td>\n",
       "      <td>2420.399902</td>\n",
       "    </tr>\n",
       "    <tr>\n",
       "      <th>2022-07-26</th>\n",
       "      <td>2443.899902</td>\n",
       "      <td>2411.350098</td>\n",
       "      <td>2421.100098</td>\n",
       "      <td>2439.449951</td>\n",
       "      <td>3217327.0</td>\n",
       "      <td>2439.449951</td>\n",
       "    </tr>\n",
       "  </tbody>\n",
       "</table>\n",
       "<p>5117 rows × 6 columns</p>\n",
       "</div>"
      ],
      "text/plain": [
       "                   High          Low         Open        Close      Volume  \\\n",
       "Date                                                                         \n",
       "2002-01-01    47.794907    46.820129    47.176003    47.191475   4451335.0   \n",
       "2002-01-02    47.346199    46.572571    47.044483    46.974857   4420985.0   \n",
       "2002-01-03    47.493191    45.682896    47.191475    45.868565  10200292.0   \n",
       "2002-01-04    50.402042    46.108391    46.572571    49.674828  28939679.0   \n",
       "2002-01-07    51.144726    49.094604    49.357639    49.512367  19626004.0   \n",
       "...                 ...          ...          ...          ...         ...   \n",
       "2022-07-20  2542.500000  2486.250000  2540.000000  2503.000000  11041036.0   \n",
       "2022-07-21  2500.000000  2467.300049  2494.000000  2486.300049   7625468.0   \n",
       "2022-07-22  2516.300049  2495.000000  2500.000000  2503.100098   5062651.0   \n",
       "2022-07-25  2467.449951  2403.000000  2467.449951  2420.399902  10665470.0   \n",
       "2022-07-26  2443.899902  2411.350098  2421.100098  2439.449951   3217327.0   \n",
       "\n",
       "              Adj Close  \n",
       "Date                     \n",
       "2002-01-01    37.571808  \n",
       "2002-01-02    37.399349  \n",
       "2002-01-03    36.518551  \n",
       "2002-01-04    39.548935  \n",
       "2002-01-07    39.419590  \n",
       "...                 ...  \n",
       "2022-07-20  2503.000000  \n",
       "2022-07-21  2486.300049  \n",
       "2022-07-22  2503.100098  \n",
       "2022-07-25  2420.399902  \n",
       "2022-07-26  2439.449951  \n",
       "\n",
       "[5117 rows x 6 columns]"
      ]
     },
     "execution_count": 2,
     "metadata": {},
     "output_type": "execute_result"
    }
   ],
   "source": [
    "company = wb.DataReader('RELIANCE.NS', data_source='yahoo', start='2002-1-1')\n",
    "company"
   ]
  },
  {
   "cell_type": "code",
   "execution_count": 3,
   "metadata": {},
   "outputs": [
    {
     "data": {
      "text/html": [
       "<div>\n",
       "<style scoped>\n",
       "    .dataframe tbody tr th:only-of-type {\n",
       "        vertical-align: middle;\n",
       "    }\n",
       "\n",
       "    .dataframe tbody tr th {\n",
       "        vertical-align: top;\n",
       "    }\n",
       "\n",
       "    .dataframe thead th {\n",
       "        text-align: right;\n",
       "    }\n",
       "</style>\n",
       "<table border=\"1\" class=\"dataframe\">\n",
       "  <thead>\n",
       "    <tr style=\"text-align: right;\">\n",
       "      <th></th>\n",
       "      <th>High</th>\n",
       "      <th>Low</th>\n",
       "      <th>Open</th>\n",
       "      <th>Close</th>\n",
       "      <th>Volume</th>\n",
       "      <th>Adj Close</th>\n",
       "    </tr>\n",
       "    <tr>\n",
       "      <th>Date</th>\n",
       "      <th></th>\n",
       "      <th></th>\n",
       "      <th></th>\n",
       "      <th></th>\n",
       "      <th></th>\n",
       "      <th></th>\n",
       "    </tr>\n",
       "  </thead>\n",
       "  <tbody>\n",
       "    <tr>\n",
       "      <th>2022-07-20</th>\n",
       "      <td>2542.500000</td>\n",
       "      <td>2486.250000</td>\n",
       "      <td>2540.000000</td>\n",
       "      <td>2503.000000</td>\n",
       "      <td>11041036.0</td>\n",
       "      <td>2503.000000</td>\n",
       "    </tr>\n",
       "    <tr>\n",
       "      <th>2022-07-21</th>\n",
       "      <td>2500.000000</td>\n",
       "      <td>2467.300049</td>\n",
       "      <td>2494.000000</td>\n",
       "      <td>2486.300049</td>\n",
       "      <td>7625468.0</td>\n",
       "      <td>2486.300049</td>\n",
       "    </tr>\n",
       "    <tr>\n",
       "      <th>2022-07-22</th>\n",
       "      <td>2516.300049</td>\n",
       "      <td>2495.000000</td>\n",
       "      <td>2500.000000</td>\n",
       "      <td>2503.100098</td>\n",
       "      <td>5062651.0</td>\n",
       "      <td>2503.100098</td>\n",
       "    </tr>\n",
       "    <tr>\n",
       "      <th>2022-07-25</th>\n",
       "      <td>2467.449951</td>\n",
       "      <td>2403.000000</td>\n",
       "      <td>2467.449951</td>\n",
       "      <td>2420.399902</td>\n",
       "      <td>10665470.0</td>\n",
       "      <td>2420.399902</td>\n",
       "    </tr>\n",
       "    <tr>\n",
       "      <th>2022-07-26</th>\n",
       "      <td>2443.899902</td>\n",
       "      <td>2411.350098</td>\n",
       "      <td>2421.100098</td>\n",
       "      <td>2439.449951</td>\n",
       "      <td>3217327.0</td>\n",
       "      <td>2439.449951</td>\n",
       "    </tr>\n",
       "  </tbody>\n",
       "</table>\n",
       "</div>"
      ],
      "text/plain": [
       "                   High          Low         Open        Close      Volume  \\\n",
       "Date                                                                         \n",
       "2022-07-20  2542.500000  2486.250000  2540.000000  2503.000000  11041036.0   \n",
       "2022-07-21  2500.000000  2467.300049  2494.000000  2486.300049   7625468.0   \n",
       "2022-07-22  2516.300049  2495.000000  2500.000000  2503.100098   5062651.0   \n",
       "2022-07-25  2467.449951  2403.000000  2467.449951  2420.399902  10665470.0   \n",
       "2022-07-26  2443.899902  2411.350098  2421.100098  2439.449951   3217327.0   \n",
       "\n",
       "              Adj Close  \n",
       "Date                     \n",
       "2022-07-20  2503.000000  \n",
       "2022-07-21  2486.300049  \n",
       "2022-07-22  2503.100098  \n",
       "2022-07-25  2420.399902  \n",
       "2022-07-26  2439.449951  "
      ]
     },
     "execution_count": 3,
     "metadata": {},
     "output_type": "execute_result"
    }
   ],
   "source": [
    "company.tail()"
   ]
  },
  {
   "cell_type": "code",
   "execution_count": 4,
   "metadata": {},
   "outputs": [
    {
     "data": {
      "text/plain": [
       "Date\n",
       "2002-01-01         NaN\n",
       "2002-01-02   -0.004590\n",
       "2002-01-03   -0.023551\n",
       "2002-01-04    0.082982\n",
       "2002-01-07   -0.003271\n",
       "                ...   \n",
       "2022-07-20    0.027040\n",
       "2022-07-21   -0.006672\n",
       "2022-07-22    0.006757\n",
       "2022-07-25   -0.033039\n",
       "2022-07-26    0.007871\n",
       "Name: Simple Return, Length: 5117, dtype: float64"
      ]
     },
     "execution_count": 4,
     "metadata": {},
     "output_type": "execute_result"
    }
   ],
   "source": [
    "company['Simple Return'] = (company['Adj Close'] / company['Adj Close'].shift(1)) - 1\n",
    "company['Simple Return']"
   ]
  },
  {
   "cell_type": "code",
   "execution_count": 5,
   "metadata": {},
   "outputs": [
    {
     "data": {
      "text/plain": [
       "<AxesSubplot:xlabel='Date'>"
      ]
     },
     "execution_count": 5,
     "metadata": {},
     "output_type": "execute_result"
    },
    {
     "data": {
      "image/png": "[encoded data removed]",
      "text/plain": [
       "<Figure size 576x360 with 1 Axes>"
      ]
     },
     "metadata": {
      "needs_background": "light"
     },
     "output_type": "display_data"
    }
   ],
   "source": [
    "company['Simple Return'].plot(figsize=(8, 5))"
   ]
  },
  {
   "cell_type": "code",
   "execution_count": 6,
   "metadata": {},
   "outputs": [
    {
     "data": {
      "text/plain": [
       "0.001131895628446114"
      ]
     },
     "execution_count": 6,
     "metadata": {},
     "output_type": "execute_result"
    }
   ],
   "source": [
    "average_daily_return = company['Simple Return'].mean()\n",
    "average_daily_return"
   ]
  },
  {
   "cell_type": "code",
   "execution_count": 7,
   "metadata": {},
   "outputs": [
    {
     "data": {
      "text/plain": [
       "0.28297390711152853"
      ]
     },
     "execution_count": 7,
     "metadata": {},
     "output_type": "execute_result"
    }
   ],
   "source": [
    "average_annual_return = average_daily_return * 250\n",
    "average_annual_return"
   ]
  },
  {
   "cell_type": "code",
   "execution_count": 8,
   "metadata": {},
   "outputs": [
    {
     "name": "stdout",
     "output_type": "stream",
     "text": [
      "Average Annual Return: 28.297390711152854%\n"
     ]
    }
   ],
   "source": [
    "print(f\"Average Annual Return: {average_annual_return*100}%\")"
   ]
  }
 ],
 "metadata": {
  "kernelspec": {
   "display_name": "Python 3",
   "language": "python",
   "name": "python3"
  },
  "language_info": {
   "codemirror_mode": {
    "name": "ipython",
    "version": 3
   },
   "file_extension": ".py",
   "mimetype": "text/x-python",
   "name": "python",
   "nbconvert_exporter": "python",
   "pygments_lexer": "ipython3",
   "version": "3.8.3"
  }
 },
 "nbformat": 4,
 "nbformat_minor": 4
}
